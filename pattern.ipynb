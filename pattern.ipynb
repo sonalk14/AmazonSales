{
  "nbformat": 4,
  "nbformat_minor": 0,
  "metadata": {
    "colab": {
      "provenance": [],
      "authorship_tag": "ABX9TyNnuhnCsOGSPHXcaAcmDx1S",
      "include_colab_link": true
    },
    "kernelspec": {
      "name": "python3",
      "display_name": "Python 3"
    },
    "language_info": {
      "name": "python"
    }
  },
  "cells": [
    {
      "cell_type": "markdown",
      "metadata": {
        "id": "view-in-github",
        "colab_type": "text"
      },
      "source": [
        "<a href=\"https://colab.research.google.com/github/sonalk14/AmazonSales/blob/main/pattern.ipynb\" target=\"_parent\"><img src=\"https://colab.research.google.com/assets/colab-badge.svg\" alt=\"Open In Colab\"/></a>"
      ]
    },
    {
      "cell_type": "code",
      "execution_count": null,
      "metadata": {
        "colab": {
          "base_uri": "https://localhost:8080/"
        },
        "id": "T9jvZfRv4Ubt",
        "outputId": "600ac9b8-b47f-4ca4-fd04-6c823f43a897"
      },
      "outputs": [
        {
          "output_type": "stream",
          "name": "stdout",
          "text": [
            "* * * * * \n",
            "* * * * * \n",
            "* * * * * \n",
            "* * * * * \n",
            "* * * * * \n"
          ]
        }
      ],
      "source": [
        "n = 5\n",
        "for rows in range(n):\n",
        "  for i in range(n):\n",
        "    print(\"*\", end=\" \")\n",
        "  print()"
      ]
    },
    {
      "cell_type": "code",
      "source": [
        "n=5\n",
        "for rows in range(n):\n",
        "  for cols in range(rows+1):\n",
        "    print(rows+1, end=\"\")\n",
        "  print()"
      ],
      "metadata": {
        "colab": {
          "base_uri": "https://localhost:8080/"
        },
        "id": "2R9c16Ca-I-B",
        "outputId": "2f1e168f-e0a5-41a6-e899-71e3c4179b8a"
      },
      "execution_count": null,
      "outputs": [
        {
          "output_type": "stream",
          "name": "stdout",
          "text": [
            "1 \n",
            "2 2 \n",
            "3 3 3 \n",
            "4 4 4 4 \n",
            "5 5 5 5 5 \n"
          ]
        }
      ]
    },
    {
      "cell_type": "code",
      "source": [
        "n=4\n",
        "for rows in range(n):\n",
        "  for cols in range(rows+1):\n",
        "    print(cols+1, end=\" \")\n",
        "  print()"
      ],
      "metadata": {
        "colab": {
          "base_uri": "https://localhost:8080/"
        },
        "id": "e-8vHebJ_p1N",
        "outputId": "b4d0a15f-83a9-4438-cd8f-2b8b575c54d2"
      },
      "execution_count": null,
      "outputs": [
        {
          "output_type": "stream",
          "name": "stdout",
          "text": [
            "1 \n",
            "1 2 \n",
            "1 2 3 \n",
            "1 2 3 4 \n"
          ]
        }
      ]
    },
    {
      "cell_type": "code",
      "source": [
        "n = 4\n",
        "for rows in range(n):\n",
        "  for i in range(rows+1, 0 , -1):\n",
        "    print(i, end=\" \")\n",
        "  print()"
      ],
      "metadata": {
        "colab": {
          "base_uri": "https://localhost:8080/"
        },
        "id": "DbptOmzLAgam",
        "outputId": "566d0a8c-3578-4791-f41e-092a1e881c89"
      },
      "execution_count": null,
      "outputs": [
        {
          "output_type": "stream",
          "name": "stdout",
          "text": [
            "1 \n",
            "2 1 \n",
            "3 2 1 \n",
            "4 3 2 1 \n"
          ]
        }
      ]
    },
    {
      "cell_type": "code",
      "source": [
        "lines = 4\n",
        "for rows in range(lines):\n",
        "\n",
        "  for cols in range(lines-rows):\n",
        "\n",
        "    print(\"*\", end=\" \")\n",
        "  print()"
      ],
      "metadata": {
        "colab": {
          "base_uri": "https://localhost:8080/"
        },
        "id": "NVzw9cBKCtYC",
        "outputId": "31a98877-ce35-46e7-8160-1b0d8bad98ef"
      },
      "execution_count": null,
      "outputs": [
        {
          "output_type": "stream",
          "name": "stdout",
          "text": [
            "* * * * \n",
            "* * * \n",
            "* * \n",
            "* \n"
          ]
        }
      ]
    },
    {
      "cell_type": "code",
      "source": [
        "a = 0\n",
        "b = 1\n",
        "\n",
        "print(a,b, end =\" \")\n",
        "n = 10\n",
        "for x in range(n):\n",
        "    fib = a + b\n",
        "    print(fib, end=\" \")\n",
        "    a=b\n",
        "    b = fib"
      ],
      "metadata": {
        "colab": {
          "base_uri": "https://localhost:8080/"
        },
        "id": "CMKzENDQu50N",
        "outputId": "acc04b1f-8533-4d19-99fc-b21d6069b989"
      },
      "execution_count": null,
      "outputs": [
        {
          "output_type": "stream",
          "name": "stdout",
          "text": [
            "0 1 1 2 3 5 8 13 21 34 55 89 "
          ]
        }
      ]
    },
    {
      "cell_type": "code",
      "source": [
        "x =13\n",
        "if x>12 or x<15 and x==16:\n",
        "  print(\"matchd\")\n",
        "else:\n",
        "  print(\"not matched\")"
      ],
      "metadata": {
        "colab": {
          "base_uri": "https://localhost:8080/"
        },
        "id": "qD_z9gxJr12P",
        "outputId": "e92e9744-5cd0-48c7-aeaf-52f51a234c72"
      },
      "execution_count": null,
      "outputs": [
        {
          "output_type": "stream",
          "name": "stdout",
          "text": [
            "matchd\n"
          ]
        }
      ]
    },
    {
      "cell_type": "code",
      "source": [
        "arr = [1, 2, 3, 4, 5, 6]\n",
        "\n",
        "for i in range(1, 6):\n",
        "\n",
        "    arr[i - 1] = arr[i]\n",
        "\n",
        "for i in range(0, 6):\n",
        "\n",
        "    print(arr[i], end = \" \")"
      ],
      "metadata": {
        "colab": {
          "base_uri": "https://localhost:8080/"
        },
        "id": "hsSf5JqwZE3C",
        "outputId": "7304a431-66f4-4742-8132-cc0cc7f8047b"
      },
      "execution_count": null,
      "outputs": [
        {
          "output_type": "stream",
          "name": "stdout",
          "text": [
            "2 3 4 5 6 6 "
          ]
        }
      ]
    },
    {
      "cell_type": "code",
      "source": [
        "i = 1\n",
        "\n",
        "while True:\n",
        "\n",
        "    if i%3 == 0:\n",
        "\n",
        "        break\n",
        "\n",
        "    print(i)\n",
        "\n",
        "    i += 1"
      ],
      "metadata": {
        "colab": {
          "base_uri": "https://localhost:8080/"
        },
        "id": "hmrf69HyaAss",
        "outputId": "fb409487-3f8b-45ef-aed0-f6310f0eb459"
      },
      "execution_count": null,
      "outputs": [
        {
          "output_type": "stream",
          "name": "stdout",
          "text": [
            "1\n",
            "2\n"
          ]
        }
      ]
    },
    {
      "cell_type": "code",
      "source": [
        "list1 = [1,'a',5.4]\n",
        "list1.extend([-3,0.8])\n",
        "print(list1)"
      ],
      "metadata": {
        "colab": {
          "base_uri": "https://localhost:8080/"
        },
        "id": "U_AjaI5b59sP",
        "outputId": "fe0fe698-9cf0-418b-fecd-a38fa0dade3e"
      },
      "execution_count": null,
      "outputs": [
        {
          "output_type": "stream",
          "name": "stdout",
          "text": [
            "[1, 'a', 5.4, -3, 0.8]\n"
          ]
        }
      ]
    },
    {
      "cell_type": "code",
      "source": [
        "z = set('abc')\n",
        "z.add('san')\n",
        "z.update(set(['p','q']))\n",
        "print(z)"
      ],
      "metadata": {
        "colab": {
          "base_uri": "https://localhost:8080/"
        },
        "id": "Z18S_3pW5sTH",
        "outputId": "efabacf9-78ba-4782-b8c7-cffc5457f215"
      },
      "execution_count": null,
      "outputs": [
        {
          "output_type": "stream",
          "name": "stdout",
          "text": [
            "{'san', 'p', 'q', 'b', 'c', 'a'}\n"
          ]
        }
      ]
    },
    {
      "cell_type": "code",
      "source": [
        "a = frozenset(set([5,6,7]))\n",
        "a"
      ],
      "metadata": {
        "colab": {
          "base_uri": "https://localhost:8080/"
        },
        "id": "KycaL1S-4HpQ",
        "outputId": "cdf1429e-9796-4748-a649-8df4531177bf"
      },
      "execution_count": null,
      "outputs": [
        {
          "output_type": "execute_result",
          "data": {
            "text/plain": [
              "frozenset({5, 6, 7})"
            ]
          },
          "metadata": {},
          "execution_count": 36
        }
      ]
    },
    {
      "cell_type": "code",
      "source": [
        "i = 0\n",
        "while(i<10):\n",
        "  if(i%2): i = i+3\n",
        "\n",
        "  i = i+1\n",
        "  print(i)"
      ],
      "metadata": {
        "colab": {
          "base_uri": "https://localhost:8080/"
        },
        "id": "AI6C7Ng14RlJ",
        "outputId": "e081eba6-db3e-4a8c-f5eb-28c08b125aa8"
      },
      "execution_count": null,
      "outputs": [
        {
          "output_type": "stream",
          "name": "stdout",
          "text": [
            "1\n",
            "5\n",
            "9\n",
            "13\n"
          ]
        }
      ]
    },
    {
      "cell_type": "code",
      "source": [
        "dic = {x:x*2 for x in range(1,6)}\n",
        "print(dic)"
      ],
      "metadata": {
        "colab": {
          "base_uri": "https://localhost:8080/"
        },
        "id": "A3heCc6611pu",
        "outputId": "aec88bdd-788c-4e1e-c353-d844e43afc92"
      },
      "execution_count": null,
      "outputs": [
        {
          "output_type": "stream",
          "name": "stdout",
          "text": [
            "{1: 2, 2: 4, 3: 6, 4: 8, 5: 10}\n"
          ]
        }
      ]
    },
    {
      "cell_type": "code",
      "source": [
        "a =1\n",
        "while True:\n",
        "  if a%7 == 0:\n",
        "    break\n",
        "  print(a,end=\"\")\n",
        "  a+=1"
      ],
      "metadata": {
        "colab": {
          "base_uri": "https://localhost:8080/"
        },
        "id": "qZAz6DXDyLd2",
        "outputId": "379325e0-dbd2-4e32-ab76-f6d56c2c71a9"
      },
      "execution_count": null,
      "outputs": [
        {
          "output_type": "stream",
          "name": "stdout",
          "text": [
            "123456"
          ]
        }
      ]
    },
    {
      "cell_type": "code",
      "source": [
        "def fruit():\n",
        "  print(\"mago\")"
      ],
      "metadata": {
        "id": "mLe79-ZjyfYO"
      },
      "execution_count": null,
      "outputs": []
    },
    {
      "cell_type": "code",
      "source": [
        "list1 =[\" \"]*3\n",
        "print(len(list1))"
      ],
      "metadata": {
        "colab": {
          "base_uri": "https://localhost:8080/"
        },
        "id": "hQolm169yunM",
        "outputId": "9c9d13e9-8e47-42f6-b0e6-771a977ee08c"
      },
      "execution_count": null,
      "outputs": [
        {
          "output_type": "stream",
          "name": "stdout",
          "text": [
            "3\n"
          ]
        }
      ]
    },
    {
      "cell_type": "code",
      "source": [
        "class RandomClass:\n",
        "  rand= 123\n",
        "print(RandomClass().rand)"
      ],
      "metadata": {
        "colab": {
          "base_uri": "https://localhost:8080/"
        },
        "id": "jQQlbf5iy7TL",
        "outputId": "c82ee957-c5ca-4818-ed44-6526b1b4ad06"
      },
      "execution_count": null,
      "outputs": [
        {
          "output_type": "stream",
          "name": "stdout",
          "text": [
            "123\n"
          ]
        }
      ]
    },
    {
      "cell_type": "code",
      "source": [
        "if(\" \"):\n",
        "  print(\"false\")\n",
        "elif(\"true\"):\n",
        "  print(\"true\")\n",
        "else:\n",
        "  print(\"none\")"
      ],
      "metadata": {
        "colab": {
          "base_uri": "https://localhost:8080/"
        },
        "id": "_Wv5P1DkzH3k",
        "outputId": "36286063-7f57-463f-a4f1-975391eebd69"
      },
      "execution_count": null,
      "outputs": [
        {
          "output_type": "stream",
          "name": "stdout",
          "text": [
            "false\n"
          ]
        }
      ]
    },
    {
      "cell_type": "code",
      "source": [
        "set(range(-2,4,3))"
      ],
      "metadata": {
        "colab": {
          "base_uri": "https://localhost:8080/"
        },
        "id": "b_EgHuPV1G9F",
        "outputId": "81026c9a-f83e-4959-f69b-b0cd71c07379"
      },
      "execution_count": null,
      "outputs": [
        {
          "output_type": "execute_result",
          "data": {
            "text/plain": [
              "{-2, 1}"
            ]
          },
          "metadata": {},
          "execution_count": 33
        }
      ]
    },
    {
      "cell_type": "code",
      "source": [
        "assert False"
      ],
      "metadata": {
        "id": "vEIChI1AqSah",
        "outputId": "d30e9acc-2e3b-41c7-836d-7dfb0c0596ec",
        "colab": {
          "base_uri": "https://localhost:8080/",
          "height": 141
        }
      },
      "execution_count": null,
      "outputs": [
        {
          "output_type": "error",
          "ename": "AssertionError",
          "evalue": "",
          "traceback": [
            "\u001b[0;31m---------------------------------------------------------------------------\u001b[0m",
            "\u001b[0;31mAssertionError\u001b[0m                            Traceback (most recent call last)",
            "\u001b[0;32m<ipython-input-22-a5cf9c8a1236>\u001b[0m in \u001b[0;36m<cell line: 1>\u001b[0;34m()\u001b[0m\n\u001b[0;32m----> 1\u001b[0;31m \u001b[0;32massert\u001b[0m \u001b[0;32mFalse\u001b[0m\u001b[0;34m\u001b[0m\u001b[0;34m\u001b[0m\u001b[0m\n\u001b[0m",
            "\u001b[0;31mAssertionError\u001b[0m: "
          ]
        }
      ]
    },
    {
      "cell_type": "code",
      "source": [],
      "metadata": {
        "id": "3y3pvXViPNaG"
      },
      "execution_count": null,
      "outputs": []
    },
    {
      "cell_type": "code",
      "source": [
        "n = 4\n",
        "for rows in range(n):\n",
        "  for space in range(n-rows-1):\n",
        "    print(\" \", end=\"\")\n",
        "  for star in range(rows+1):\n",
        "    print(\"* \", end=\"\")\n",
        "  print()"
      ],
      "metadata": {
        "colab": {
          "base_uri": "https://localhost:8080/"
        },
        "id": "yqco5f2PFrva",
        "outputId": "cab5a05c-44a3-40cf-c91b-48898d850139"
      },
      "execution_count": null,
      "outputs": [
        {
          "output_type": "stream",
          "name": "stdout",
          "text": [
            "   * \n",
            "  * * \n",
            " * * * \n",
            "* * * * \n"
          ]
        }
      ]
    },
    {
      "cell_type": "code",
      "source": [
        "n = 4\n",
        "for rows in range(n):\n",
        "  for space in range(n-rows-1):\n",
        "    print(\" \", end=\" \")\n",
        "  for num in range(rows+1, 0 ,-1):\n",
        "    print(num, end =\" \")\n",
        "  print()"
      ],
      "metadata": {
        "colab": {
          "base_uri": "https://localhost:8080/"
        },
        "id": "nGQwhg39Iol2",
        "outputId": "e9134fad-78ed-4274-fc2b-384c9d4a4ff5"
      },
      "execution_count": null,
      "outputs": [
        {
          "output_type": "stream",
          "name": "stdout",
          "text": [
            "      1 \n",
            "    2 1 \n",
            "  3 2 1 \n",
            "4 3 2 1 \n"
          ]
        }
      ]
    },
    {
      "cell_type": "code",
      "source": [
        "n = 5\n",
        "for rows in range(n):\n",
        "  for space in range(n-rows):\n",
        "    print(\" \", end=\" \")\n",
        "  for num in range(1, rows+1):\n",
        "    print(num, end =\" \")\n",
        "  print()"
      ],
      "metadata": {
        "colab": {
          "base_uri": "https://localhost:8080/"
        },
        "id": "qLUPBoBUJwu7",
        "outputId": "7bc19077-904a-419b-8469-488c2b89e2a1"
      },
      "execution_count": null,
      "outputs": [
        {
          "output_type": "stream",
          "name": "stdout",
          "text": [
            "          \n",
            "        1 \n",
            "      1 2 \n",
            "    1 2 3 \n",
            "  1 2 3 4 \n"
          ]
        }
      ]
    },
    {
      "cell_type": "code",
      "source": [
        "n= 5\n",
        "for rows in range(n):\n",
        "  for i in range(n-rows):\n",
        "    print(n-rows, end=\" \")\n",
        "  print()"
      ],
      "metadata": {
        "colab": {
          "base_uri": "https://localhost:8080/"
        },
        "id": "mKJM5UmC_NRs",
        "outputId": "0aef7a45-c2c6-4da9-9c35-746e6d790f68"
      },
      "execution_count": null,
      "outputs": [
        {
          "output_type": "stream",
          "name": "stdout",
          "text": [
            "5 5 5 5 5 \n",
            "4 4 4 4 \n",
            "3 3 3 \n",
            "2 2 \n",
            "1 \n"
          ]
        }
      ]
    },
    {
      "cell_type": "code",
      "source": [
        "n=5\n",
        "for rows in range(n):\n",
        "  for i in range(n-rows,0,-1):\n",
        "    print(i,end=\" \")\n",
        "  print()"
      ],
      "metadata": {
        "colab": {
          "base_uri": "https://localhost:8080/"
        },
        "id": "MsOJZSvZBgmi",
        "outputId": "756345e1-9a4b-4965-9ba7-912dd6382377"
      },
      "execution_count": null,
      "outputs": [
        {
          "output_type": "stream",
          "name": "stdout",
          "text": [
            "5 4 3 2 1 \n",
            "4 3 2 1 \n",
            "3 2 1 \n",
            "2 1 \n",
            "1 \n"
          ]
        }
      ]
    },
    {
      "cell_type": "code",
      "source": [
        "n = 4\n",
        "for rows in range(n):\n",
        "  for space in range(rows):\n",
        "    print(\" \", end=\" \")\n",
        "  for star in range (n-rows,0,-1):\n",
        "    print(\"*\",end=\" \")\n",
        "  print()"
      ],
      "metadata": {
        "colab": {
          "base_uri": "https://localhost:8080/"
        },
        "id": "eoyx5aTvC5a4",
        "outputId": "668f4a55-1ddd-40b8-a7b2-b91e97606e77"
      },
      "execution_count": null,
      "outputs": [
        {
          "output_type": "stream",
          "name": "stdout",
          "text": [
            "* * * * \n",
            "  * * * \n",
            "    * * \n",
            "      * \n"
          ]
        }
      ]
    },
    {
      "cell_type": "code",
      "source": [
        "n = 5\n",
        "for rows in range(n):\n",
        "  for cols in range(n):\n",
        "    if (rows==0) or (cols==0) or(rows+cols)==(n-1):\n",
        "      print(\"*\", end=\" \")\n",
        "    else:\n",
        "      print(\" \", end=\" \")\n",
        "  print()\n",
        "\n"
      ],
      "metadata": {
        "colab": {
          "base_uri": "https://localhost:8080/"
        },
        "id": "Udpi9zcEErwP",
        "outputId": "84633ab4-5d3a-44d4-a9cc-713405f2c59f"
      },
      "execution_count": null,
      "outputs": [
        {
          "output_type": "stream",
          "name": "stdout",
          "text": [
            "* * * * * \n",
            "*     *   \n",
            "*   *     \n",
            "* *       \n",
            "*         \n"
          ]
        }
      ]
    },
    {
      "cell_type": "code",
      "source": [
        "n= 4\n",
        "for rows in range(n):\n",
        "  for i in range(n):\n",
        "    if (rows==i):\n",
        "      print(\"1\",end=\" \")\n",
        "    else:\n",
        "      print(\"0\",end=\" \")\n",
        "  print()\n",
        "\n"
      ],
      "metadata": {
        "colab": {
          "base_uri": "https://localhost:8080/"
        },
        "id": "Z3QY4eTRIe6M",
        "outputId": "debbc0bb-c27b-4db4-e5e6-fcf8cdd67141"
      },
      "execution_count": null,
      "outputs": [
        {
          "output_type": "stream",
          "name": "stdout",
          "text": [
            "1 0 0 0 \n",
            "0 1 0 0 \n",
            "0 0 1 0 \n",
            "0 0 0 1 \n"
          ]
        }
      ]
    },
    {
      "cell_type": "code",
      "source": [
        "lines=4\n",
        "for rows in range(lines):\n",
        "  for cols in range(rows+1):\n",
        "    print(\"*\", end=\" \")\n",
        "  print()\n",
        "for rows in range(lines-1):\n",
        "    for cols in range(lines-rows-1):\n",
        "      print(\"*\", end=\" \")\n",
        "    print()\n"
      ],
      "metadata": {
        "colab": {
          "base_uri": "https://localhost:8080/"
        },
        "id": "F82XRVCgJjhV",
        "outputId": "86e0c75c-b441-4224-eec8-e6ec3faaa20d"
      },
      "execution_count": null,
      "outputs": [
        {
          "output_type": "stream",
          "name": "stdout",
          "text": [
            "* \n",
            "* * \n",
            "* * * \n",
            "* * * * \n",
            "* * * \n",
            "* * \n",
            "* \n"
          ]
        }
      ]
    },
    {
      "cell_type": "code",
      "source": [
        "n = 4\n",
        "for rows in range(n):\n",
        "  for space in range(n-rows-1):\n",
        "    print(\" \", end=\"\")\n",
        "  for star in range(rows+1):\n",
        "    print(\"* \", end=\"\")\n",
        "  print()\n",
        "for rows in range(n-1):\n",
        "  for space in range(rows+1):\n",
        "    print(\" \", end=\"\")\n",
        "  for star in range (n-rows-1):\n",
        "    print(\"* \", end=\"\")\n",
        "  print()\n",
        "\n"
      ],
      "metadata": {
        "colab": {
          "base_uri": "https://localhost:8080/"
        },
        "id": "jjSpyqfoMtJ3",
        "outputId": "1e5694f7-a482-47ce-cae8-953e461802a9"
      },
      "execution_count": null,
      "outputs": [
        {
          "output_type": "stream",
          "name": "stdout",
          "text": [
            "   * \n",
            "  * * \n",
            " * * * \n",
            "* * * * \n",
            " * * * \n",
            "  * * \n",
            "   * \n"
          ]
        }
      ]
    },
    {
      "cell_type": "code",
      "source": [],
      "metadata": {
        "colab": {
          "base_uri": "https://localhost:8080/"
        },
        "id": "jqwxNqFoQxjd",
        "outputId": "a2b893fc-93b3-4f7b-a41b-3759c1276399"
      },
      "execution_count": null,
      "outputs": [
        {
          "output_type": "stream",
          "name": "stdout",
          "text": [
            "    1 \n",
            "  1 2 1 \n",
            "1 2 3 2 1 \n"
          ]
        }
      ]
    },
    {
      "cell_type": "code",
      "source": [
        "for num in range(1,16):\n",
        "  if(num%3==0 ):\n",
        "    print(\"hello\", end=\" \")\n",
        "  else:\n",
        "    print(num, end=\" \")\n",
        "    if num%2==0:\n",
        "      print(\"even no\")\n",
        "    else:\n",
        "      print(\"odd no\")"
      ],
      "metadata": {
        "colab": {
          "base_uri": "https://localhost:8080/"
        },
        "id": "3NDgpQlqWzXi",
        "outputId": "33122f04-9e44-40eb-9086-274f19632eac"
      },
      "execution_count": null,
      "outputs": [
        {
          "output_type": "stream",
          "name": "stdout",
          "text": [
            "1 odd no\n",
            "2 even no\n",
            "hello 4 even no\n",
            "5 odd no\n",
            "hello 7 odd no\n",
            "8 even no\n",
            "hello 10 even no\n",
            "11 odd no\n",
            "hello 13 odd no\n",
            "14 even no\n",
            "hello "
          ]
        }
      ]
    },
    {
      "cell_type": "code",
      "source": [
        "a = 0\n",
        "b= 1\n",
        "n = 8\n",
        "for i in range(n):\n",
        "  print(fib)\n",
        "  fib= a+b\n",
        "  a=b\n",
        "  b =fib"
      ],
      "metadata": {
        "colab": {
          "base_uri": "https://localhost:8080/",
          "height": 211
        },
        "id": "CweCPL9eYMKw",
        "outputId": "1f6cc746-cbec-49b6-f770-8db198f57b8c"
      },
      "execution_count": null,
      "outputs": [
        {
          "output_type": "error",
          "ename": "NameError",
          "evalue": "name 'fib' is not defined",
          "traceback": [
            "\u001b[0;31m---------------------------------------------------------------------------\u001b[0m",
            "\u001b[0;31mNameError\u001b[0m                                 Traceback (most recent call last)",
            "\u001b[0;32m<ipython-input-5-6994bd6e0e75>\u001b[0m in \u001b[0;36m<cell line: 4>\u001b[0;34m()\u001b[0m\n\u001b[1;32m      3\u001b[0m \u001b[0mn\u001b[0m \u001b[0;34m=\u001b[0m \u001b[0;36m8\u001b[0m\u001b[0;34m\u001b[0m\u001b[0;34m\u001b[0m\u001b[0m\n\u001b[1;32m      4\u001b[0m \u001b[0;32mfor\u001b[0m \u001b[0mi\u001b[0m \u001b[0;32min\u001b[0m \u001b[0mrange\u001b[0m\u001b[0;34m(\u001b[0m\u001b[0mn\u001b[0m\u001b[0;34m)\u001b[0m\u001b[0;34m:\u001b[0m\u001b[0;34m\u001b[0m\u001b[0;34m\u001b[0m\u001b[0m\n\u001b[0;32m----> 5\u001b[0;31m   \u001b[0mprint\u001b[0m\u001b[0;34m(\u001b[0m\u001b[0mfib\u001b[0m\u001b[0;34m)\u001b[0m\u001b[0;34m\u001b[0m\u001b[0;34m\u001b[0m\u001b[0m\n\u001b[0m\u001b[1;32m      6\u001b[0m   \u001b[0mfib\u001b[0m\u001b[0;34m=\u001b[0m \u001b[0ma\u001b[0m\u001b[0;34m+\u001b[0m\u001b[0mb\u001b[0m\u001b[0;34m\u001b[0m\u001b[0;34m\u001b[0m\u001b[0m\n\u001b[1;32m      7\u001b[0m   \u001b[0ma\u001b[0m\u001b[0;34m=\u001b[0m\u001b[0mb\u001b[0m\u001b[0;34m\u001b[0m\u001b[0;34m\u001b[0m\u001b[0m\n",
            "\u001b[0;31mNameError\u001b[0m: name 'fib' is not defined"
          ]
        }
      ]
    },
    {
      "cell_type": "code",
      "source": [],
      "metadata": {
        "id": "K8ZLztKx4w87"
      },
      "execution_count": null,
      "outputs": []
    },
    {
      "cell_type": "code",
      "source": [
        "n=5\n",
        "for i in range(5):\n",
        " for j in range (5):\n",
        "  :\n",
        "    if(num%2==0):\n",
        "      print(num)\n",
        "    else:\n",
        "      print(\"*\" , end=\" \")\n",
        " print()\n",
        "\n"
      ],
      "metadata": {
        "colab": {
          "base_uri": "https://localhost:8080/"
        },
        "id": "Ig_hArYBsV65",
        "outputId": "08fd9d27-7604-4a4a-fc33-a2ddaf5b3bc9"
      },
      "execution_count": null,
      "outputs": [
        {
          "output_type": "stream",
          "name": "stdout",
          "text": [
            "* 2\n",
            "* 4\n",
            "* 6\n",
            "* 8\n",
            "* 10\n",
            "* 2\n",
            "* 4\n",
            "* 6\n",
            "* 8\n",
            "* 10\n",
            "* 2\n",
            "* 4\n",
            "* 6\n",
            "* 8\n",
            "* 10\n",
            "* 2\n",
            "* 4\n",
            "* 6\n",
            "* 8\n",
            "* 10\n",
            "* 2\n",
            "* 4\n",
            "* 6\n",
            "* 8\n",
            "* 10\n",
            "\n",
            "* 2\n",
            "* 4\n",
            "* 6\n",
            "* 8\n",
            "* 10\n",
            "* 2\n",
            "* 4\n",
            "* 6\n",
            "* 8\n",
            "* 10\n",
            "* 2\n",
            "* 4\n",
            "* 6\n",
            "* 8\n",
            "* 10\n",
            "* 2\n",
            "* 4\n",
            "* 6\n",
            "* 8\n",
            "* 10\n",
            "* 2\n",
            "* 4\n",
            "* 6\n",
            "* 8\n",
            "* 10\n",
            "\n",
            "* 2\n",
            "* 4\n",
            "* 6\n",
            "* 8\n",
            "* 10\n",
            "* 2\n",
            "* 4\n",
            "* 6\n",
            "* 8\n",
            "* 10\n",
            "* 2\n",
            "* 4\n",
            "* 6\n",
            "* 8\n",
            "* 10\n",
            "* 2\n",
            "* 4\n",
            "* 6\n",
            "* 8\n",
            "* 10\n",
            "* 2\n",
            "* 4\n",
            "* 6\n",
            "* 8\n",
            "* 10\n",
            "\n",
            "* 2\n",
            "* 4\n",
            "* 6\n",
            "* 8\n",
            "* 10\n",
            "* 2\n",
            "* 4\n",
            "* 6\n",
            "* 8\n",
            "* 10\n",
            "* 2\n",
            "* 4\n",
            "* 6\n",
            "* 8\n",
            "* 10\n",
            "* 2\n",
            "* 4\n",
            "* 6\n",
            "* 8\n",
            "* 10\n",
            "* 2\n",
            "* 4\n",
            "* 6\n",
            "* 8\n",
            "* 10\n",
            "\n",
            "* 2\n",
            "* 4\n",
            "* 6\n",
            "* 8\n",
            "* 10\n",
            "* 2\n",
            "* 4\n",
            "* 6\n",
            "* 8\n",
            "* 10\n",
            "* 2\n",
            "* 4\n",
            "* 6\n",
            "* 8\n",
            "* 10\n",
            "* 2\n",
            "* 4\n",
            "* 6\n",
            "* 8\n",
            "* 10\n",
            "* 2\n",
            "* 4\n",
            "* 6\n",
            "* 8\n",
            "* 10\n",
            "\n"
          ]
        }
      ]
    },
    {
      "cell_type": "code",
      "source": [
        "rows = 5\n",
        "i = 1\n",
        "while i <= rows:\n",
        " j = i\n",
        "while j < rows:\n",
        "print(' ', end=' ')\n",
        "j += 1\n",
        "k = 1\n",
        "while k <= i:\n",
        "print('*', end=' ')\n",
        "k += 1\n",
        "print()\n",
        "i += 1\n",
        "i = rows\n",
        "while i >= 1:\n",
        "j = i\n",
        "while j <= rows:\n",
        "print(' ', end=' ')\n",
        "j += 1\n",
        "k = 1\n",
        "while k < i:\n",
        "print('*', end=' ')\n",
        "k += 1\n",
        "print('')\n",
        "i -="
      ],
      "metadata": {
        "colab": {
          "base_uri": "https://localhost:8080/",
          "height": 106
        },
        "id": "ycOm6Xs5L2_F",
        "outputId": "40809ed1-a5f2-4744-8ea4-49f16ef16a0a"
      },
      "execution_count": null,
      "outputs": [
        {
          "output_type": "error",
          "ename": "IndentationError",
          "evalue": "expected an indented block after 'while' statement on line 3 (<ipython-input-1-1abd6b509e5d>, line 4)",
          "traceback": [
            "\u001b[0;36m  File \u001b[0;32m\"<ipython-input-1-1abd6b509e5d>\"\u001b[0;36m, line \u001b[0;32m4\u001b[0m\n\u001b[0;31m    j = i\u001b[0m\n\u001b[0m    ^\u001b[0m\n\u001b[0;31mIndentationError\u001b[0m\u001b[0;31m:\u001b[0m expected an indented block after 'while' statement on line 3\n"
          ]
        }
      ]
    },
    {
      "cell_type": "code",
      "source": [
        "def print_alpha_nums(abc_list,num_list):\n",
        "  for char in abc_list:\n",
        "\n",
        "      for num in num_list:\n",
        "        print(char ,\"-\" ,num)\n",
        "\n",
        "print_alpha_nums(['a','b','c'],[1,2,3])"
      ],
      "metadata": {
        "colab": {
          "base_uri": "https://localhost:8080/"
        },
        "id": "3_vey0oOqlfZ",
        "outputId": "2bf5cf96-c70c-4417-fc8a-357c617c03b3"
      },
      "execution_count": null,
      "outputs": [
        {
          "output_type": "stream",
          "name": "stdout",
          "text": [
            "a - 1\n",
            "a - 2\n",
            "a - 3\n",
            "b - 1\n",
            "b - 2\n",
            "b - 3\n",
            "c - 1\n",
            "c - 2\n",
            "c - 3\n"
          ]
        }
      ]
    },
    {
      "cell_type": "code",
      "source": [
        "for i in [1,2,3,4][::-1]:\n",
        "  print(i,end='')"
      ],
      "metadata": {
        "colab": {
          "base_uri": "https://localhost:8080/"
        },
        "id": "Ujo988jda-ur",
        "outputId": "5bde7c2d-57a2-4f98-c05d-497675cc3599"
      },
      "execution_count": null,
      "outputs": [
        {
          "output_type": "stream",
          "name": "stdout",
          "text": [
            "4321"
          ]
        }
      ]
    },
    {
      "cell_type": "code",
      "source": [
        "a =[10,20,30,40,50,60,70]\n",
        "b=a[10:]\n",
        "print(b)"
      ],
      "metadata": {
        "colab": {
          "base_uri": "https://localhost:8080/"
        },
        "id": "2-yln9hAblmc",
        "outputId": "c1222af7-a01f-4579-d99f-818874c464fd"
      },
      "execution_count": null,
      "outputs": [
        {
          "output_type": "stream",
          "name": "stdout",
          "text": [
            "[]\n"
          ]
        }
      ]
    },
    {
      "cell_type": "code",
      "source": [
        "x =5\n",
        "y =10\n",
        "result = lambda x:lambda y:x+y\n",
        "print(result(x)(y))\n"
      ],
      "metadata": {
        "colab": {
          "base_uri": "https://localhost:8080/"
        },
        "id": "sWMXtBs1cFVi",
        "outputId": "857bb5b5-807f-4f22-bfe3-d7e724343d9f"
      },
      "execution_count": null,
      "outputs": [
        {
          "output_type": "stream",
          "name": "stdout",
          "text": [
            "15\n"
          ]
        }
      ]
    },
    {
      "cell_type": "code",
      "source": [
        "min(max(False,-3,-4),2,7)"
      ],
      "metadata": {
        "colab": {
          "base_uri": "https://localhost:8080/"
        },
        "id": "APIB7da0cbby",
        "outputId": "f9b5e4dc-a8be-46f1-838e-2be49234dbbd"
      },
      "execution_count": null,
      "outputs": [
        {
          "output_type": "execute_result",
          "data": {
            "text/plain": [
              "False"
            ]
          },
          "metadata": {},
          "execution_count": 4
        }
      ]
    },
    {
      "cell_type": "code",
      "source": [
        "z=set('abc')\n",
        "z.add('san')\n",
        "z.update(set(['p','q']))\n",
        "print(z)"
      ],
      "metadata": {
        "colab": {
          "base_uri": "https://localhost:8080/"
        },
        "id": "xBLgvUU1csY5",
        "outputId": "79d0a468-5972-4b97-ffb5-8a550cf80c2e"
      },
      "execution_count": null,
      "outputs": [
        {
          "output_type": "stream",
          "name": "stdout",
          "text": [
            "{'san', 'c', 'a', 'p', 'q', 'b'}\n"
          ]
        }
      ]
    },
    {
      "cell_type": "code",
      "source": [
        "x=[1,3,2,1]\n",
        "y=x.append(4)\n",
        "print(y)"
      ],
      "metadata": {
        "colab": {
          "base_uri": "https://localhost:8080/"
        },
        "id": "JXqy9kE0dd6B",
        "outputId": "de466426-71cf-4c2b-8b54-0a6b9c41c1a8"
      },
      "execution_count": null,
      "outputs": [
        {
          "output_type": "stream",
          "name": "stdout",
          "text": [
            "None\n"
          ]
        }
      ]
    },
    {
      "cell_type": "code",
      "source": [
        "a =14\n",
        "b = 7\n",
        "print(a&b)"
      ],
      "metadata": {
        "colab": {
          "base_uri": "https://localhost:8080/"
        },
        "id": "rjVK3vRXk4mU",
        "outputId": "2bd62023-7652-4290-a8cb-aeda2d1ea432"
      },
      "execution_count": null,
      "outputs": [
        {
          "output_type": "stream",
          "name": "stdout",
          "text": [
            "6\n"
          ]
        }
      ]
    },
    {
      "cell_type": "code",
      "source": [
        "s=\"Itvedant\"\n",
        "print(\"Character\")\n",
        "for x in s:\n",
        "      print(x)"
      ],
      "metadata": {
        "colab": {
          "base_uri": "https://localhost:8080/"
        },
        "id": "xOM6Os2DrUhq",
        "outputId": "831af72a-f2cc-4838-d61a-84482d614f4b"
      },
      "execution_count": null,
      "outputs": [
        {
          "output_type": "stream",
          "name": "stdout",
          "text": [
            "Character\n",
            "I\n",
            "t\n",
            "v\n",
            "e\n",
            "d\n",
            "a\n",
            "n\n",
            "t\n"
          ]
        }
      ]
    },
    {
      "cell_type": "code",
      "source": [
        "my_list=list(\"itvedant\")\n",
        "print(my_list)\n",
        "my_list.append(\"san\")\n",
        "print(my_list)"
      ],
      "metadata": {
        "colab": {
          "base_uri": "https://localhost:8080/"
        },
        "id": "y8YWnmr9sHGM",
        "outputId": "b542e712-6bff-4bc9-8160-b31293f48066"
      },
      "execution_count": null,
      "outputs": [
        {
          "output_type": "stream",
          "name": "stdout",
          "text": [
            "['i', 't', 'v', 'e', 'd', 'a', 'n', 't']\n",
            "['i', 't', 'v', 'e', 'd', 'a', 'n', 't', 'san']\n"
          ]
        }
      ]
    },
    {
      "cell_type": "code",
      "source": [
        "lists = [10,20,30,40]\n",
        "print(lists[10:4])"
      ],
      "metadata": {
        "colab": {
          "base_uri": "https://localhost:8080/"
        },
        "id": "j01J4yRVs2yo",
        "outputId": "07fc3748-e061-4477-f16f-74387a1f503b"
      },
      "execution_count": null,
      "outputs": [
        {
          "output_type": "stream",
          "name": "stdout",
          "text": [
            "[]\n"
          ]
        }
      ]
    },
    {
      "cell_type": "code",
      "source": [
        "t=(10,20,\"Itvedant\",67.8,)\n",
        "print(t)\n",
        "n=len(t)\n",
        "print(\"Total number of elements:\",n)"
      ],
      "metadata": {
        "colab": {
          "base_uri": "https://localhost:8080/"
        },
        "id": "pQ-5DCQawaRn",
        "outputId": "c5c5d8bd-761a-4eb3-a3a4-9b5fcfb6fef9"
      },
      "execution_count": null,
      "outputs": [
        {
          "output_type": "stream",
          "name": "stdout",
          "text": [
            "(10, 20, 'Itvedant', 67.8)\n",
            "Total number of elements: 4\n"
          ]
        }
      ]
    },
    {
      "cell_type": "code",
      "source": [
        "for i in range(1,4):\n",
        "  for j in range(1,4):\n",
        "    print(i,j,end=\" \")"
      ],
      "metadata": {
        "colab": {
          "base_uri": "https://localhost:8080/"
        },
        "id": "5smBFFHouA3N",
        "outputId": "77bfd93a-84b3-4052-eca5-81a619d0a66a"
      },
      "execution_count": null,
      "outputs": [
        {
          "output_type": "stream",
          "name": "stdout",
          "text": [
            "1 1 1 2 1 3 2 1 2 2 2 3 3 1 3 2 3 3 "
          ]
        }
      ]
    },
    {
      "cell_type": "code",
      "source": [
        "s2={1,4,2,5,7,8,9.10,55,50,70,80,10,50,10,30,\"abc\"}\n",
        "print(s2)\n",
        "s2.add(777)\n",
        "print(\"add : \",s2)\n",
        "s2.update(('a','b','c'))\n",
        "print(\"update : \",s2)\n",
        "s2.pop()\n",
        "print(\"pop : ”\",s2)\n",
        "s2.remove(\"abc\")\n",
        "print(\"remove : \",s2)\n",
        "s2.discard(\"abcde\")\n",
        "print(\"discard: \",s2)\n",
        "s2.clear()\n",
        "print(s2)"
      ],
      "metadata": {
        "colab": {
          "base_uri": "https://localhost:8080/"
        },
        "id": "RqMeZ223waK_",
        "outputId": "09d64033-3d8f-42cd-e60f-2e8c5b94aa34"
      },
      "execution_count": null,
      "outputs": [
        {
          "output_type": "stream",
          "name": "stdout",
          "text": [
            "{1, 2, 4, 5, 70, 7, 8, 9.1, 10, 80, 'abc', 50, 55, 30}\n",
            "add :  {1, 2, 4, 5, 70, 7, 8, 9.1, 10, 777, 80, 'abc', 50, 55, 30}\n",
            "update :  {1, 2, 'c', 4, 5, 70, 7, 8, 9.1, 10, 777, 'a', 80, 'abc', 50, 55, 'b', 30}\n",
            "pop : ” {2, 'c', 4, 5, 70, 7, 8, 9.1, 10, 777, 'a', 80, 'abc', 50, 55, 'b', 30}\n",
            "remove :  {2, 'c', 4, 5, 70, 7, 8, 9.1, 10, 777, 'a', 80, 50, 55, 'b', 30}\n",
            "discard:  {2, 'c', 4, 5, 70, 7, 8, 9.1, 10, 777, 'a', 80, 50, 55, 'b', 30}\n",
            "set()\n"
          ]
        }
      ]
    },
    {
      "cell_type": "code",
      "source": [
        "s1={10,20,30,40}\n",
        "s2={30,40,50,60}\n",
        "#result=s1.union(s2)\n",
        "result=s1|s2\n",
        "print(result)\n",
        "#r1=s1.intersection(s2)\n",
        "r1=s1&s2\n",
        "print(r1)"
      ],
      "metadata": {
        "colab": {
          "base_uri": "https://localhost:8080/"
        },
        "id": "og-qz_Dxyyj-",
        "outputId": "6454e91f-601f-4d3e-fd6b-42055d52bdcc"
      },
      "execution_count": null,
      "outputs": [
        {
          "output_type": "stream",
          "name": "stdout",
          "text": [
            "{40, 10, 50, 20, 60, 30}\n",
            "{40, 30}\n"
          ]
        }
      ]
    },
    {
      "cell_type": "code",
      "source": [
        "num_list =[21,13,19,3,11,5,18]\n",
        "num_list.sort()\n",
        "num_list[len(num_list)//2]\n"
      ],
      "metadata": {
        "colab": {
          "base_uri": "https://localhost:8080/"
        },
        "id": "AqVXJebH4A2I",
        "outputId": "e62b78f7-2abf-49aa-baac-072d6e907d15"
      },
      "execution_count": null,
      "outputs": [
        {
          "output_type": "execute_result",
          "data": {
            "text/plain": [
              "13"
            ]
          },
          "metadata": {},
          "execution_count": 2
        }
      ]
    },
    {
      "cell_type": "code",
      "source": [
        "x =5\n",
        "y= 10\n",
        "result = lambda x:lambda y: x+y\n",
        "print (result(x)(y))"
      ],
      "metadata": {
        "colab": {
          "base_uri": "https://localhost:8080/"
        },
        "id": "iFWFPGJZ8l0_",
        "outputId": "3cb721ae-bfcc-44b1-fadf-1ac2e98ae99d"
      },
      "execution_count": null,
      "outputs": [
        {
          "output_type": "stream",
          "name": "stdout",
          "text": [
            "15\n"
          ]
        }
      ]
    },
    {
      "cell_type": "code",
      "source": [
        "a=15\n",
        "b=1\n",
        "c=a>>b\n",
        "print(c)"
      ],
      "metadata": {
        "colab": {
          "base_uri": "https://localhost:8080/"
        },
        "id": "Pb488mvD8_-y",
        "outputId": "d3e0def5-b638-4f37-e9b6-c109a3b1ef31"
      },
      "execution_count": null,
      "outputs": [
        {
          "output_type": "stream",
          "name": "stdout",
          "text": [
            "7\n"
          ]
        }
      ]
    },
    {
      "cell_type": "code",
      "source": [
        "4+3%5"
      ],
      "metadata": {
        "colab": {
          "base_uri": "https://localhost:8080/"
        },
        "id": "U167VWod8_h2",
        "outputId": "605a0838-7da9-4120-d35b-ba6500c44012"
      },
      "execution_count": null,
      "outputs": [
        {
          "output_type": "execute_result",
          "data": {
            "text/plain": [
              "7"
            ]
          },
          "metadata": {},
          "execution_count": 32
        }
      ]
    },
    {
      "cell_type": "code",
      "source": [
        "min(max(False,-3,-4),2,7)"
      ],
      "metadata": {
        "colab": {
          "base_uri": "https://localhost:8080/"
        },
        "id": "Jmv8U1b49WbJ",
        "outputId": "ee6cfb34-088d-4c88-8389-8dbfbde3bd53"
      },
      "execution_count": null,
      "outputs": [
        {
          "output_type": "execute_result",
          "data": {
            "text/plain": [
              "False"
            ]
          },
          "metadata": {},
          "execution_count": 33
        }
      ]
    },
    {
      "cell_type": "code",
      "source": [
        "class tester:\n",
        "  def __init__(self,id):\n",
        "    self.id = str(id)\n",
        "    id =\"224\"\n",
        "  temp = tester(12)\n",
        "  print(temp.id)"
      ],
      "metadata": {
        "colab": {
          "base_uri": "https://localhost:8080/",
          "height": 315
        },
        "id": "LM9XVpJr-mdF",
        "outputId": "fc0de355-4827-4ef6-9dc7-bbf3edc5e60f"
      },
      "execution_count": null,
      "outputs": [
        {
          "output_type": "error",
          "ename": "NameError",
          "evalue": "name 'tester' is not defined",
          "traceback": [
            "\u001b[0;31m---------------------------------------------------------------------------\u001b[0m",
            "\u001b[0;31mNameError\u001b[0m                                 Traceback (most recent call last)",
            "\u001b[0;32m<ipython-input-34-456cc0057502>\u001b[0m in \u001b[0;36m<cell line: 1>\u001b[0;34m()\u001b[0m\n\u001b[0;32m----> 1\u001b[0;31m \u001b[0;32mclass\u001b[0m \u001b[0mtester\u001b[0m\u001b[0;34m:\u001b[0m\u001b[0;34m\u001b[0m\u001b[0;34m\u001b[0m\u001b[0m\n\u001b[0m\u001b[1;32m      2\u001b[0m   \u001b[0;32mdef\u001b[0m \u001b[0m__init__\u001b[0m\u001b[0;34m(\u001b[0m\u001b[0mself\u001b[0m\u001b[0;34m,\u001b[0m\u001b[0mid\u001b[0m\u001b[0;34m)\u001b[0m\u001b[0;34m:\u001b[0m\u001b[0;34m\u001b[0m\u001b[0;34m\u001b[0m\u001b[0m\n\u001b[1;32m      3\u001b[0m     \u001b[0mself\u001b[0m\u001b[0;34m.\u001b[0m\u001b[0mid\u001b[0m \u001b[0;34m=\u001b[0m \u001b[0mstr\u001b[0m\u001b[0;34m(\u001b[0m\u001b[0mid\u001b[0m\u001b[0;34m)\u001b[0m\u001b[0;34m\u001b[0m\u001b[0;34m\u001b[0m\u001b[0m\n\u001b[1;32m      4\u001b[0m     \u001b[0mid\u001b[0m \u001b[0;34m=\u001b[0m\u001b[0;34m\"224\"\u001b[0m\u001b[0;34m\u001b[0m\u001b[0;34m\u001b[0m\u001b[0m\n\u001b[1;32m      5\u001b[0m   \u001b[0mtemp\u001b[0m \u001b[0;34m=\u001b[0m \u001b[0mtester\u001b[0m\u001b[0;34m(\u001b[0m\u001b[0;36m12\u001b[0m\u001b[0;34m)\u001b[0m\u001b[0;34m\u001b[0m\u001b[0;34m\u001b[0m\u001b[0m\n",
            "\u001b[0;32m<ipython-input-34-456cc0057502>\u001b[0m in \u001b[0;36mtester\u001b[0;34m()\u001b[0m\n\u001b[1;32m      3\u001b[0m     \u001b[0mself\u001b[0m\u001b[0;34m.\u001b[0m\u001b[0mid\u001b[0m \u001b[0;34m=\u001b[0m \u001b[0mstr\u001b[0m\u001b[0;34m(\u001b[0m\u001b[0mid\u001b[0m\u001b[0;34m)\u001b[0m\u001b[0;34m\u001b[0m\u001b[0;34m\u001b[0m\u001b[0m\n\u001b[1;32m      4\u001b[0m     \u001b[0mid\u001b[0m \u001b[0;34m=\u001b[0m\u001b[0;34m\"224\"\u001b[0m\u001b[0;34m\u001b[0m\u001b[0;34m\u001b[0m\u001b[0m\n\u001b[0;32m----> 5\u001b[0;31m   \u001b[0mtemp\u001b[0m \u001b[0;34m=\u001b[0m \u001b[0mtester\u001b[0m\u001b[0;34m(\u001b[0m\u001b[0;36m12\u001b[0m\u001b[0;34m)\u001b[0m\u001b[0;34m\u001b[0m\u001b[0;34m\u001b[0m\u001b[0m\n\u001b[0m\u001b[1;32m      6\u001b[0m   \u001b[0mprint\u001b[0m\u001b[0;34m(\u001b[0m\u001b[0mtemp\u001b[0m\u001b[0;34m.\u001b[0m\u001b[0mid\u001b[0m\u001b[0;34m)\u001b[0m\u001b[0;34m\u001b[0m\u001b[0;34m\u001b[0m\u001b[0m\n",
            "\u001b[0;31mNameError\u001b[0m: name 'tester' is not defined"
          ]
        }
      ]
    },
    {
      "cell_type": "code",
      "source": [
        "def foo(x):\n",
        "  x[0]=['def']\n",
        "  x[1]=['abc']\n",
        "  return id(x)\n",
        "  q =['abc','def']\n",
        "  print(id(q)==foo(q))"
      ],
      "metadata": {
        "id": "xrn-2y-5_DAj"
      },
      "execution_count": null,
      "outputs": []
    },
    {
      "cell_type": "code",
      "source": [
        "print(5%2 == 2, end=\" \")\n",
        "print(5.5 %2 ==1)"
      ],
      "metadata": {
        "colab": {
          "base_uri": "https://localhost:8080/"
        },
        "id": "2sn7Icuj4LOZ",
        "outputId": "12b4779d-507a-4785-ac9c-30186d27fcf5"
      },
      "execution_count": null,
      "outputs": [
        {
          "output_type": "stream",
          "name": "stdout",
          "text": [
            "False False\n"
          ]
        }
      ]
    },
    {
      "cell_type": "code",
      "source": [
        "a = 10\n",
        "b = 4\n",
        "if(~a):\n",
        "  print(a-2*b+1)\n",
        "else:\n",
        "  print(a-b/2)"
      ],
      "metadata": {
        "colab": {
          "base_uri": "https://localhost:8080/"
        },
        "id": "toI3eqBr9MoJ",
        "outputId": "ba27e41f-5efa-40b0-87e2-b95afa9288a0"
      },
      "execution_count": null,
      "outputs": [
        {
          "output_type": "stream",
          "name": "stdout",
          "text": [
            "3\n"
          ]
        }
      ]
    },
    {
      "cell_type": "code",
      "source": [
        "'5.0'==5.0\n",
        "5.0 == 5\n",
        "5.1>5"
      ],
      "metadata": {
        "id": "eyh8jbGg9gH9",
        "outputId": "1cc8bfa7-eb37-4169-c278-06d7718b64aa",
        "colab": {
          "base_uri": "https://localhost:8080/"
        }
      },
      "execution_count": null,
      "outputs": [
        {
          "output_type": "execute_result",
          "data": {
            "text/plain": [
              "True"
            ]
          },
          "metadata": {},
          "execution_count": 15
        }
      ]
    },
    {
      "cell_type": "code",
      "source": [],
      "metadata": {
        "id": "Dil_u1RP9L9J"
      },
      "execution_count": null,
      "outputs": []
    },
    {
      "cell_type": "code",
      "source": [
        "z = \"xyz\"\n",
        "j =\"j\"\n",
        "while j in z:\n",
        "  print(j,end=\" \")"
      ],
      "metadata": {
        "id": "4V6QLyzC5L0L"
      },
      "execution_count": null,
      "outputs": []
    },
    {
      "cell_type": "code",
      "source": [
        "for i in range(5):\n",
        "  if(i%2):\n",
        "    print(i,end=\" \")"
      ],
      "metadata": {
        "colab": {
          "base_uri": "https://localhost:8080/"
        },
        "id": "exS_t9Uo7x0L",
        "outputId": "bace3043-729e-4e52-bd03-1932fedf9dc5"
      },
      "execution_count": null,
      "outputs": [
        {
          "output_type": "stream",
          "name": "stdout",
          "text": [
            "1 3 "
          ]
        }
      ]
    },
    {
      "cell_type": "code",
      "source": [
        "9.!>'9'"
      ],
      "metadata": {
        "colab": {
          "base_uri": "https://localhost:8080/",
          "height": 106
        },
        "id": "PUiDmUFl8xCd",
        "outputId": "674fa979-321d-4e6b-f303-422d902f8f85"
      },
      "execution_count": null,
      "outputs": [
        {
          "output_type": "error",
          "ename": "SyntaxError",
          "evalue": "invalid syntax (<ipython-input-12-20d7312ebdbe>, line 1)",
          "traceback": [
            "\u001b[0;36m  File \u001b[0;32m\"<ipython-input-12-20d7312ebdbe>\"\u001b[0;36m, line \u001b[0;32m1\u001b[0m\n\u001b[0;31m    9.!>'9'\u001b[0m\n\u001b[0m      ^\u001b[0m\n\u001b[0;31mSyntaxError\u001b[0m\u001b[0;31m:\u001b[0m invalid syntax\n"
          ]
        }
      ]
    },
    {
      "cell_type": "code",
      "source": [
        "x= 5+(6>4)+6/3*5\n",
        "print(x)"
      ],
      "metadata": {
        "colab": {
          "base_uri": "https://localhost:8080/"
        },
        "id": "Kx57JCWD7Nk_",
        "outputId": "a35b6208-d059-4e94-c696-07e6d6c08a68"
      },
      "execution_count": null,
      "outputs": [
        {
          "output_type": "stream",
          "name": "stdout",
          "text": [
            "16.0\n"
          ]
        }
      ]
    },
    {
      "cell_type": "code",
      "source": [
        "for i in range(1,6,2):\n",
        "  if(i==4):\n",
        "    break\n",
        "  print(i,end=\" \")"
      ],
      "metadata": {
        "colab": {
          "base_uri": "https://localhost:8080/"
        },
        "id": "HoFmewK97DLH",
        "outputId": "c2c180a6-36d7-4199-fa3e-dd92c7fa54b0"
      },
      "execution_count": null,
      "outputs": [
        {
          "output_type": "stream",
          "name": "stdout",
          "text": [
            "1 3 5 "
          ]
        }
      ]
    },
    {
      "cell_type": "code",
      "source": [
        "for i in ('a','b','c','d'):\n",
        "  print(i,end=\"\")\n",
        "else:\n",
        "  print(\"end\")"
      ],
      "metadata": {
        "colab": {
          "base_uri": "https://localhost:8080/"
        },
        "id": "VBVUOZtN6az7",
        "outputId": "887347f2-276c-4a59-b903-58bcc02d1333"
      },
      "execution_count": null,
      "outputs": [
        {
          "output_type": "stream",
          "name": "stdout",
          "text": [
            "abcdend\n"
          ]
        }
      ]
    },
    {
      "cell_type": "code",
      "source": [
        "a =5\n",
        "b=(a == 2)\n",
        "print(b+3)"
      ],
      "metadata": {
        "colab": {
          "base_uri": "https://localhost:8080/"
        },
        "id": "eJb8wLjs4sBa",
        "outputId": "65912261-3a9e-4d08-80f8-f4c9ff506f57"
      },
      "execution_count": null,
      "outputs": [
        {
          "output_type": "stream",
          "name": "stdout",
          "text": [
            "3\n"
          ]
        }
      ]
    },
    {
      "cell_type": "code",
      "source": [
        "x = [1,3,2,1]\n",
        "y = x.append(4)\n",
        "print(y)"
      ],
      "metadata": {
        "colab": {
          "base_uri": "https://localhost:8080/"
        },
        "id": "Kh1f5LDSBVeJ",
        "outputId": "0e75795b-2e32-4b3e-fd35-a95855d8ef2b"
      },
      "execution_count": null,
      "outputs": [
        {
          "output_type": "stream",
          "name": "stdout",
          "text": [
            "None\n"
          ]
        }
      ]
    },
    {
      "cell_type": "code",
      "source": [
        "list1 =[1,6,1,5,6]\n",
        "list2=list1.copy()\n",
        "list1.insert(2,8)\n",
        "print(list2)\n",
        "print(list1)"
      ],
      "metadata": {
        "colab": {
          "base_uri": "https://localhost:8080/"
        },
        "id": "tWqRFmfOFdK0",
        "outputId": "505807d1-5cbf-4410-c14a-e6c4f7305b65"
      },
      "execution_count": null,
      "outputs": [
        {
          "output_type": "stream",
          "name": "stdout",
          "text": [
            "[1, 6, 1, 5, 6]\n",
            "[1, 6, 8, 1, 5, 6]\n"
          ]
        }
      ]
    },
    {
      "cell_type": "code",
      "source": [
        "list1 =[2,4,5,6]\n",
        "list2= list1\n",
        "list1.append(8)\n",
        "print(list2)"
      ],
      "metadata": {
        "colab": {
          "base_uri": "https://localhost:8080/"
        },
        "id": "VwScd-HvF5tk",
        "outputId": "aaf902e5-b84b-41be-f0c2-98e1151e8727"
      },
      "execution_count": null,
      "outputs": [
        {
          "output_type": "stream",
          "name": "stdout",
          "text": [
            "[2, 4, 5, 6, 8]\n"
          ]
        }
      ]
    },
    {
      "cell_type": "code",
      "source": [
        "sum =0\n",
        "values =[1,3,5,7]\n",
        "for number in values:\n",
        "  sum = sum+ number\n",
        "print(sum)\n"
      ],
      "metadata": {
        "colab": {
          "base_uri": "https://localhost:8080/"
        },
        "id": "nGOqFQBiGHcJ",
        "outputId": "58bce3f6-483d-4a45-a672-55a427cae0ce"
      },
      "execution_count": null,
      "outputs": [
        {
          "output_type": "stream",
          "name": "stdout",
          "text": [
            "16\n"
          ]
        }
      ]
    },
    {
      "cell_type": "code",
      "source": [
        "for i in range(1,4):\n",
        "  for j in range(1,4):\n",
        "    print(i,j,end=\" \")\n",
        "\n"
      ],
      "metadata": {
        "colab": {
          "base_uri": "https://localhost:8080/"
        },
        "id": "ul6sIRUHGcUh",
        "outputId": "1467734b-9e02-451d-d06a-4d990df60767"
      },
      "execution_count": null,
      "outputs": [
        {
          "output_type": "stream",
          "name": "stdout",
          "text": [
            "1 1 1 2 1 3 2 1 2 2 2 3 3 1 3 2 3 3 \n"
          ]
        }
      ]
    },
    {
      "cell_type": "code",
      "source": [
        "'raining',find('z')"
      ],
      "metadata": {
        "colab": {
          "base_uri": "https://localhost:8080/",
          "height": 141
        },
        "id": "XI4L4FW7I8qP",
        "outputId": "420380cd-4a12-4476-ef07-7a347cadf592"
      },
      "execution_count": null,
      "outputs": [
        {
          "output_type": "error",
          "ename": "NameError",
          "evalue": "name 'find' is not defined",
          "traceback": [
            "\u001b[0;31m---------------------------------------------------------------------------\u001b[0m",
            "\u001b[0;31mNameError\u001b[0m                                 Traceback (most recent call last)",
            "\u001b[0;32m<ipython-input-11-e5875a4351bd>\u001b[0m in \u001b[0;36m<cell line: 1>\u001b[0;34m()\u001b[0m\n\u001b[0;32m----> 1\u001b[0;31m \u001b[0;34m'raining'\u001b[0m\u001b[0;34m,\u001b[0m\u001b[0mfind\u001b[0m\u001b[0;34m(\u001b[0m\u001b[0;34m'z'\u001b[0m\u001b[0;34m)\u001b[0m\u001b[0;34m\u001b[0m\u001b[0;34m\u001b[0m\u001b[0m\n\u001b[0m",
            "\u001b[0;31mNameError\u001b[0m: name 'find' is not defined"
          ]
        }
      ]
    },
    {
      "cell_type": "code",
      "source": [
        "class test:\n",
        "  def __init__(self,a=\"hello world\"):\n",
        "    self.a =a\n",
        "\n",
        "  def display(self):\n",
        "    print(self.a)\n",
        "\n",
        "  obj = test()\n",
        "  obj.display()\n"
      ],
      "metadata": {
        "colab": {
          "base_uri": "https://localhost:8080/",
          "height": 315
        },
        "id": "lk5uK63GJhio",
        "outputId": "a1ee9f7a-b3bc-4593-e6ab-104e3af45235"
      },
      "execution_count": null,
      "outputs": [
        {
          "output_type": "error",
          "ename": "NameError",
          "evalue": "name 'test' is not defined",
          "traceback": [
            "\u001b[0;31m---------------------------------------------------------------------------\u001b[0m",
            "\u001b[0;31mNameError\u001b[0m                                 Traceback (most recent call last)",
            "\u001b[0;32m<ipython-input-13-deedd9f1d0a1>\u001b[0m in \u001b[0;36m<cell line: 1>\u001b[0;34m()\u001b[0m\n\u001b[0;32m----> 1\u001b[0;31m \u001b[0;32mclass\u001b[0m \u001b[0mtest\u001b[0m\u001b[0;34m(\u001b[0m\u001b[0;34m)\u001b[0m\u001b[0;34m:\u001b[0m\u001b[0;34m\u001b[0m\u001b[0;34m\u001b[0m\u001b[0m\n\u001b[0m\u001b[1;32m      2\u001b[0m   \u001b[0;32mdef\u001b[0m \u001b[0m__init__\u001b[0m\u001b[0;34m(\u001b[0m\u001b[0mself\u001b[0m\u001b[0;34m,\u001b[0m\u001b[0ma\u001b[0m\u001b[0;34m=\u001b[0m\u001b[0;34m\"hello world\"\u001b[0m\u001b[0;34m)\u001b[0m\u001b[0;34m:\u001b[0m\u001b[0;34m\u001b[0m\u001b[0;34m\u001b[0m\u001b[0m\n\u001b[1;32m      3\u001b[0m     \u001b[0mself\u001b[0m\u001b[0;34m.\u001b[0m\u001b[0ma\u001b[0m \u001b[0;34m=\u001b[0m\u001b[0ma\u001b[0m\u001b[0;34m\u001b[0m\u001b[0;34m\u001b[0m\u001b[0m\n\u001b[1;32m      4\u001b[0m   \u001b[0;32mdef\u001b[0m \u001b[0mdisplay\u001b[0m\u001b[0;34m(\u001b[0m\u001b[0mself\u001b[0m\u001b[0;34m)\u001b[0m\u001b[0;34m:\u001b[0m\u001b[0;34m\u001b[0m\u001b[0;34m\u001b[0m\u001b[0m\n\u001b[1;32m      5\u001b[0m     \u001b[0mprint\u001b[0m\u001b[0;34m(\u001b[0m\u001b[0mself\u001b[0m\u001b[0;34m.\u001b[0m\u001b[0ma\u001b[0m\u001b[0;34m)\u001b[0m\u001b[0;34m\u001b[0m\u001b[0;34m\u001b[0m\u001b[0m\n",
            "\u001b[0;32m<ipython-input-13-deedd9f1d0a1>\u001b[0m in \u001b[0;36mtest\u001b[0;34m()\u001b[0m\n\u001b[1;32m      5\u001b[0m     \u001b[0mprint\u001b[0m\u001b[0;34m(\u001b[0m\u001b[0mself\u001b[0m\u001b[0;34m.\u001b[0m\u001b[0ma\u001b[0m\u001b[0;34m)\u001b[0m\u001b[0;34m\u001b[0m\u001b[0;34m\u001b[0m\u001b[0m\n\u001b[1;32m      6\u001b[0m \u001b[0;34m\u001b[0m\u001b[0m\n\u001b[0;32m----> 7\u001b[0;31m   \u001b[0mobj\u001b[0m \u001b[0;34m=\u001b[0m \u001b[0mtest\u001b[0m\u001b[0;34m(\u001b[0m\u001b[0;34m)\u001b[0m\u001b[0;34m\u001b[0m\u001b[0;34m\u001b[0m\u001b[0m\n\u001b[0m\u001b[1;32m      8\u001b[0m   \u001b[0mobj\u001b[0m\u001b[0;34m.\u001b[0m\u001b[0mdisplay\u001b[0m\u001b[0;34m(\u001b[0m\u001b[0;34m)\u001b[0m\u001b[0;34m\u001b[0m\u001b[0;34m\u001b[0m\u001b[0m\n",
            "\u001b[0;31mNameError\u001b[0m: name 'test' is not defined"
          ]
        }
      ]
    },
    {
      "cell_type": "code",
      "source": [
        "string = \"my name is x\"\n",
        "for i in ' '.join(string.split()):\n",
        "    print (i, end=\", \")"
      ],
      "metadata": {
        "id": "TuVsAX1KPQrG",
        "colab": {
          "base_uri": "https://localhost:8080/"
        },
        "outputId": "c125e020-d09b-4de5-a843-425d254b2e31"
      },
      "execution_count": null,
      "outputs": [
        {
          "output_type": "stream",
          "name": "stdout",
          "text": [
            "m, y,  , n, a, m, e,  , i, s,  , x, "
          ]
        }
      ]
    },
    {
      "cell_type": "code",
      "source": [
        "a=[\"Apple\",\"Ball\",\"Cobra\"]\n",
        "a.sort(key=len)\n",
        "print(a)"
      ],
      "metadata": {
        "colab": {
          "base_uri": "https://localhost:8080/"
        },
        "id": "ghjhjmTSfb7u",
        "outputId": "744baf10-f1f6-4a5e-bef6-2274714749d2"
      },
      "execution_count": null,
      "outputs": [
        {
          "output_type": "stream",
          "name": "stdout",
          "text": [
            "['Ball', 'Apple', 'Cobra']\n"
          ]
        }
      ]
    },
    {
      "cell_type": "code",
      "source": [
        "a = [1, 5, 7, 9, 9, 1]\n",
        "b=a[0]\n",
        "x= 0\n",
        "for x in range(1, len(a)):\n",
        "    if a[x] > b:\n",
        "        b = a[x]\n",
        "        b= x\n",
        "print(b)"
      ],
      "metadata": {
        "colab": {
          "base_uri": "https://localhost:8080/"
        },
        "id": "2aompWpsflU_",
        "outputId": "777abab3-fa44-4901-9dbe-68767f7bb6c2"
      },
      "execution_count": null,
      "outputs": [
        {
          "output_type": "stream",
          "name": "stdout",
          "text": [
            "4\n"
          ]
        }
      ]
    },
    {
      "cell_type": "code",
      "source": [
        "print('+88'.zfill(6))"
      ],
      "metadata": {
        "colab": {
          "base_uri": "https://localhost:8080/"
        },
        "id": "eUaTf2nFfzle",
        "outputId": "c8c5184b-7525-4738-9dfa-5b6248c08bd2"
      },
      "execution_count": null,
      "outputs": [
        {
          "output_type": "stream",
          "name": "stdout",
          "text": [
            "+00088\n"
          ]
        }
      ]
    },
    {
      "cell_type": "code",
      "source": [
        "a={'B':5,'A':9,'C':7}\n",
        "sorted(a)\n"
      ],
      "metadata": {
        "colab": {
          "base_uri": "https://localhost:8080/"
        },
        "id": "g64r45wzf6jh",
        "outputId": "d631b4b3-c3b4-43b6-cad1-f628f27dd4f3"
      },
      "execution_count": null,
      "outputs": [
        {
          "output_type": "execute_result",
          "data": {
            "text/plain": [
              "['A', 'B', 'C']"
            ]
          },
          "metadata": {},
          "execution_count": 11
        }
      ]
    },
    {
      "cell_type": "code",
      "source": [
        "a={}\n",
        "a[2]=1\n",
        "a[1]=[2,3,4]\n",
        "print(a[1][1])\n"
      ],
      "metadata": {
        "colab": {
          "base_uri": "https://localhost:8080/"
        },
        "id": "F00W06KrgEVR",
        "outputId": "3da9dc84-08b2-4408-9138-645bc376f0fe"
      },
      "execution_count": null,
      "outputs": [
        {
          "output_type": "stream",
          "name": "stdout",
          "text": [
            "3\n"
          ]
        }
      ]
    },
    {
      "cell_type": "code",
      "source": [
        "d = {0: 'a', 1: 'b', 2: 'c'}\n",
        "for x in d.keys():\n",
        "  print(d[x])"
      ],
      "metadata": {
        "colab": {
          "base_uri": "https://localhost:8080/"
        },
        "id": "QqO3OMMzjfvC",
        "outputId": "4bb92e8f-8df4-4302-8888-e8a38fe77ec5"
      },
      "execution_count": null,
      "outputs": [
        {
          "output_type": "stream",
          "name": "stdout",
          "text": [
            "a\n",
            "b\n",
            "c\n"
          ]
        }
      ]
    },
    {
      "cell_type": "code",
      "source": [
        "x = 'abcd'\n",
        "for i in x:\n",
        "   print(i.upper())"
      ],
      "metadata": {
        "colab": {
          "base_uri": "https://localhost:8080/"
        },
        "id": "ljwOThZDjo-7",
        "outputId": "0529d954-8b75-47c7-f1ec-8c158b99c3be"
      },
      "execution_count": null,
      "outputs": [
        {
          "output_type": "stream",
          "name": "stdout",
          "text": [
            "A\n",
            "B\n",
            "C\n",
            "D\n"
          ]
        }
      ]
    },
    {
      "cell_type": "code",
      "source": [
        "for i in range(int(4.0)):\n",
        "   print(i)"
      ],
      "metadata": {
        "colab": {
          "base_uri": "https://localhost:8080/"
        },
        "id": "lEFjE8XyjymM",
        "outputId": "f85607a8-9c44-4ef5-9dea-5d122921a38c"
      },
      "execution_count": null,
      "outputs": [
        {
          "output_type": "stream",
          "name": "stdout",
          "text": [
            "0\n",
            "1\n",
            "2\n",
            "3\n"
          ]
        }
      ]
    },
    {
      "cell_type": "code",
      "source": [
        "int(4)"
      ],
      "metadata": {
        "colab": {
          "base_uri": "https://localhost:8080/"
        },
        "id": "C--EgyPt3M4A",
        "outputId": "86316b9a-8a78-4cc5-fcbe-7da2b0c46d83"
      },
      "execution_count": null,
      "outputs": [
        {
          "output_type": "execute_result",
          "data": {
            "text/plain": [
              "4"
            ]
          },
          "metadata": {},
          "execution_count": 15
        }
      ]
    },
    {
      "cell_type": "code",
      "source": [
        "a,b=1,0\n",
        "a=aˆb\n",
        "b=aˆb\n",
        "a=aˆb\n",
        "print(a)"
      ],
      "metadata": {
        "id": "LRRkRvzLks7f"
      },
      "execution_count": null,
      "outputs": []
    },
    {
      "cell_type": "code",
      "source": [
        "val = 154\n",
        "while(not(val)):\n",
        "  val**2\n",
        "else:\n",
        "  val//=2\n",
        "print(val)"
      ],
      "metadata": {
        "colab": {
          "base_uri": "https://localhost:8080/"
        },
        "id": "O71V8wRCmTk5",
        "outputId": "dc8e18e1-d2b0-425a-ecf0-700812227a12"
      },
      "execution_count": null,
      "outputs": [
        {
          "output_type": "stream",
          "name": "stdout",
          "text": [
            "77\n"
          ]
        }
      ]
    },
    {
      "cell_type": "code",
      "source": [
        "from random import randit\n",
        "for i in range(5):\n",
        "  print(random(1,5))"
      ],
      "metadata": {
        "id": "sOmprSgQmlne",
        "colab": {
          "base_uri": "https://localhost:8080/",
          "height": 349
        },
        "outputId": "ad10f088-abfa-4d16-fce8-e54654152d62"
      },
      "execution_count": null,
      "outputs": [
        {
          "output_type": "error",
          "ename": "ImportError",
          "evalue": "cannot import name 'randit' from 'random' (/usr/lib/python3.10/random.py)",
          "traceback": [
            "\u001b[0;31m---------------------------------------------------------------------------\u001b[0m",
            "\u001b[0;31mImportError\u001b[0m                               Traceback (most recent call last)",
            "\u001b[0;32m<ipython-input-16-4afd3c4173ff>\u001b[0m in \u001b[0;36m<cell line: 1>\u001b[0;34m()\u001b[0m\n\u001b[0;32m----> 1\u001b[0;31m \u001b[0;32mfrom\u001b[0m \u001b[0mrandom\u001b[0m \u001b[0;32mimport\u001b[0m \u001b[0mrandit\u001b[0m\u001b[0;34m\u001b[0m\u001b[0;34m\u001b[0m\u001b[0m\n\u001b[0m\u001b[1;32m      2\u001b[0m \u001b[0;32mfor\u001b[0m \u001b[0mi\u001b[0m \u001b[0;32min\u001b[0m \u001b[0mrange\u001b[0m\u001b[0;34m(\u001b[0m\u001b[0;36m5\u001b[0m\u001b[0;34m)\u001b[0m\u001b[0;34m:\u001b[0m\u001b[0;34m\u001b[0m\u001b[0;34m\u001b[0m\u001b[0m\n\u001b[1;32m      3\u001b[0m   \u001b[0mprint\u001b[0m\u001b[0;34m(\u001b[0m\u001b[0mrandom\u001b[0m\u001b[0;34m(\u001b[0m\u001b[0;36m1\u001b[0m\u001b[0;34m,\u001b[0m\u001b[0;36m5\u001b[0m\u001b[0;34m)\u001b[0m\u001b[0;34m)\u001b[0m\u001b[0;34m\u001b[0m\u001b[0;34m\u001b[0m\u001b[0m\n",
            "\u001b[0;31mImportError\u001b[0m: cannot import name 'randit' from 'random' (/usr/lib/python3.10/random.py)",
            "",
            "\u001b[0;31m---------------------------------------------------------------------------\u001b[0;32m\nNOTE: If your import is failing due to a missing package, you can\nmanually install dependencies using either !pip or !apt.\n\nTo view examples of installing some common dependencies, click the\n\"Open Examples\" button below.\n\u001b[0;31m---------------------------------------------------------------------------\u001b[0m\n"
          ],
          "errorDetails": {
            "actions": [
              {
                "action": "open_url",
                "actionText": "Open Examples",
                "url": "/notebooks/snippets/importing_libraries.ipynb"
              }
            ]
          }
        }
      ]
    },
    {
      "cell_type": "code",
      "source": [
        "for row in range(1, 15):\n",
        "  # Print characters from A to chr(row + 64) (ASCII conversion for uppercase letters)\n",
        "  for char in range(65, row + 65):\n",
        "    print(chr(char), end=\" \")\n",
        "  # Move to the next line\n",
        "  print()"
      ],
      "metadata": {
        "colab": {
          "base_uri": "https://localhost:8080/"
        },
        "id": "ld1oCOWlE05w",
        "outputId": "f78873b0-243b-4393-f73f-a2f4f0a15548"
      },
      "execution_count": null,
      "outputs": [
        {
          "output_type": "stream",
          "name": "stdout",
          "text": [
            "A \n",
            "A B \n",
            "A B C \n",
            "A B C D \n",
            "A B C D E \n",
            "A B C D E F \n",
            "A B C D E F G \n",
            "A B C D E F G H \n",
            "A B C D E F G H I \n",
            "A B C D E F G H I J \n",
            "A B C D E F G H I J K \n",
            "A B C D E F G H I J K L \n",
            "A B C D E F G H I J K L M \n",
            "A B C D E F G H I J K L M N \n"
          ]
        }
      ]
    },
    {
      "cell_type": "code",
      "source": [
        "n = 5\n",
        "num =1\n",
        "for i in range(0,n):\n",
        "  for j in range(0,i+1):\n",
        "    print(num,end=\" \")\n",
        "    num = num+1\n",
        "  print()"
      ],
      "metadata": {
        "colab": {
          "base_uri": "https://localhost:8080/"
        },
        "id": "AiYjQ9tJF5-n",
        "outputId": "f9af7639-2e14-4487-f8ca-0a35b2d6d0e0"
      },
      "execution_count": null,
      "outputs": [
        {
          "output_type": "stream",
          "name": "stdout",
          "text": [
            "1 \n",
            "2 3 \n",
            "4 5 6 \n",
            "7 8 9 10 \n",
            "11 12 13 14 15 \n"
          ]
        }
      ]
    },
    {
      "cell_type": "code",
      "source": [
        "n = 5\n",
        "num = 65\n",
        "for i in range(0,n):\n",
        "  for j in range(0,i+1):\n",
        "    ch=chr(num)\n",
        "    print(ch,end=\" \")\n",
        "  num = num+1\n",
        "  print()"
      ],
      "metadata": {
        "colab": {
          "base_uri": "https://localhost:8080/"
        },
        "id": "9zKwOZ-XJkLv",
        "outputId": "9de312ac-7ceb-479a-8f65-16e641f28e2d"
      },
      "execution_count": null,
      "outputs": [
        {
          "output_type": "stream",
          "name": "stdout",
          "text": [
            "A \n",
            "B B \n",
            "C C C \n",
            "D D D D \n",
            "E E E E E \n"
          ]
        }
      ]
    },
    {
      "cell_type": "code",
      "source": [
        "n = 5\n",
        "num = 65\n",
        "for i in range(0,n):\n",
        "  for j in range(0,i+1):\n",
        "    ch = chr(num)\n",
        "    print(ch,end=\" \")\n",
        "    num = num+1\n",
        "  print()"
      ],
      "metadata": {
        "colab": {
          "base_uri": "https://localhost:8080/"
        },
        "id": "w_T2fLKtJ7x1",
        "outputId": "245cc326-7942-4833-b8b9-f215bf5d7d5d"
      },
      "execution_count": null,
      "outputs": [
        {
          "output_type": "stream",
          "name": "stdout",
          "text": [
            "A \n",
            "B C \n",
            "D E F \n",
            "G H I J \n",
            "K L M N O \n"
          ]
        }
      ]
    },
    {
      "cell_type": "code",
      "source": [
        "l1 = [1,2,3]\n",
        "l2 = [4,5,6]\n",
        "\n"
      ],
      "metadata": {
        "id": "LKHd2VvqKYIQ"
      },
      "execution_count": null,
      "outputs": []
    },
    {
      "cell_type": "code",
      "source": [
        "d = {1:'r',2:6,1:5,3:'y'}\n",
        "print(d)"
      ],
      "metadata": {
        "id": "CC1sF87b4fgc",
        "colab": {
          "base_uri": "https://localhost:8080/"
        },
        "outputId": "4a578a18-9cb3-4ce0-b7e3-8a6b83d18dcd"
      },
      "execution_count": null,
      "outputs": [
        {
          "output_type": "stream",
          "name": "stdout",
          "text": [
            "{1: 5, 2: 6, 3: 'y'}\n"
          ]
        }
      ]
    },
    {
      "cell_type": "code",
      "source": [
        "x=1\n",
        "while true"
      ],
      "metadata": {
        "id": "JQTEmZph58XY"
      },
      "execution_count": null,
      "outputs": []
    },
    {
      "cell_type": "code",
      "source": [
        "x = 4+3 and 6 or 4>5+2\n",
        "print(x)"
      ],
      "metadata": {
        "colab": {
          "base_uri": "https://localhost:8080/"
        },
        "id": "ciMrFhXo6VhL",
        "outputId": "5e268131-b70e-4713-d750-957b8ed77e60"
      },
      "execution_count": null,
      "outputs": [
        {
          "output_type": "stream",
          "name": "stdout",
          "text": [
            "6\n"
          ]
        }
      ]
    },
    {
      "cell_type": "code",
      "source": [
        "print(int(4.9))"
      ],
      "metadata": {
        "colab": {
          "base_uri": "https://localhost:8080/"
        },
        "id": "ALfeXRvX6nBP",
        "outputId": "a0d13849-85a5-4679-d564-aa7fca5dfe5a"
      },
      "execution_count": null,
      "outputs": [
        {
          "output_type": "stream",
          "name": "stdout",
          "text": [
            "4\n"
          ]
        }
      ]
    },
    {
      "cell_type": "code",
      "source": [
        "str1 = str(1234)\n",
        "str2 ='1234'\n",
        "print(str1 ==str2,end=\" \")\n",
        "print(str1 is str2)\n"
      ],
      "metadata": {
        "colab": {
          "base_uri": "https://localhost:8080/"
        },
        "id": "T5n1R5t36uSS",
        "outputId": "ad70ca0d-6684-4927-bcef-0ff2cf5e6975"
      },
      "execution_count": null,
      "outputs": [
        {
          "output_type": "stream",
          "name": "stdout",
          "text": [
            "True False\n"
          ]
        }
      ]
    },
    {
      "cell_type": "code",
      "source": [
        "import datetime\n",
        "from datetime import date\n",
        "now = datetime.datetime.now()\n",
        "print (now)\n",
        "now = date.today()\n",
        "print(now)"
      ],
      "metadata": {
        "colab": {
          "base_uri": "https://localhost:8080/"
        },
        "id": "JX5wJXxe6HCs",
        "outputId": "4ba80768-6ac3-4262-a15d-0a404c8cdb1f"
      },
      "execution_count": null,
      "outputs": [
        {
          "output_type": "stream",
          "name": "stdout",
          "text": [
            "2024-05-14 03:15:39.881807\n",
            "2024-05-14\n"
          ]
        }
      ]
    },
    {
      "cell_type": "code",
      "source": [
        "vowel = ['a','e','i','o','u']\n",
        "words = \"programming\"\n",
        "count =0\n",
        "for word in words:\n",
        "  if word in vowel:\n",
        "    count+=1\n",
        "print(count)"
      ],
      "metadata": {
        "colab": {
          "base_uri": "https://localhost:8080/"
        },
        "id": "3IVjm-3Z0GLf",
        "outputId": "28eddcb3-d82a-423a-c4e3-344c346cc673"
      },
      "execution_count": null,
      "outputs": [
        {
          "output_type": "stream",
          "name": "stdout",
          "text": [
            "3\n"
          ]
        }
      ]
    },
    {
      "cell_type": "code",
      "source": [
        "vowel = ['a','e','i','o','u']\n",
        "words = \"programming\"\n",
        "count = 0\n",
        "for word in words:\n",
        "  if word not in vowel:\n",
        "    count+=1\n",
        "print()"
      ],
      "metadata": {
        "colab": {
          "base_uri": "https://localhost:8080/"
        },
        "id": "myoQ6Ze81_he",
        "outputId": "b0689b01-810c-4500-a1aa-0229d7f632d1"
      },
      "execution_count": null,
      "outputs": [
        {
          "output_type": "stream",
          "name": "stdout",
          "text": [
            "\n"
          ]
        }
      ]
    },
    {
      "cell_type": "code",
      "source": [
        "lst1 = [1,2,3]\n",
        "lst2 = [4,5,6]\n",
        "res_lst =[]\n",
        "for i in range(0,len(lst2)):\n",
        "  res_lst.append(lst1[i]+lst2[i])\n",
        "print(res_lst)\n"
      ],
      "metadata": {
        "colab": {
          "base_uri": "https://localhost:8080/"
        },
        "id": "_Sx6nyK43g_s",
        "outputId": "3fc5e1d4-d0e8-4da1-a2f0-c7ca07af0afa"
      },
      "execution_count": null,
      "outputs": [
        {
          "output_type": "stream",
          "name": "stdout",
          "text": [
            "[5, 7, 9]\n"
          ]
        }
      ]
    },
    {
      "cell_type": "code",
      "source": [
        "str1 = \"listen\"\n",
        "str2 = \"silent\"\n",
        "def check(str1,str2):\n",
        "  if(sorted(str1)==sorted(str2)):\n",
        "    print(\"anagram\")\n",
        "  else:\n",
        "    print(\"not an anagram\")\n",
        "\n",
        "check(str1,str2)"
      ],
      "metadata": {
        "colab": {
          "base_uri": "https://localhost:8080/"
        },
        "id": "T4dgGNCz4QDj",
        "outputId": "67009ff6-802e-4ce0-8dd2-bb8fee17b0f3"
      },
      "execution_count": null,
      "outputs": [
        {
          "output_type": "stream",
          "name": "stdout",
          "text": [
            "anagram\n"
          ]
        }
      ]
    },
    {
      "cell_type": "code",
      "source": [
        "n = 5\n",
        "factorial = 1\n",
        "for i in range(1,n+1):\n",
        "  factorial*=i\n",
        "print(factorial)"
      ],
      "metadata": {
        "colab": {
          "base_uri": "https://localhost:8080/"
        },
        "id": "Cr2GO5R66qGp",
        "outputId": "96abc60d-3209-4bd7-d840-f5126b479403"
      },
      "execution_count": null,
      "outputs": [
        {
          "output_type": "stream",
          "name": "stdout",
          "text": [
            "120\n"
          ]
        }
      ]
    },
    {
      "cell_type": "code",
      "source": [
        "a = 0\n",
        "b =1\n",
        "n=10\n",
        "for x in range(n):\n",
        "  fib = a+b\n",
        "  print(fib,end=\" \")\n",
        "  a =b\n",
        "  b=fib"
      ],
      "metadata": {
        "colab": {
          "base_uri": "https://localhost:8080/"
        },
        "id": "8-bRqjK88btf",
        "outputId": "06141421-a2d4-4dc1-d847-37d64353d723"
      },
      "execution_count": null,
      "outputs": [
        {
          "output_type": "stream",
          "name": "stdout",
          "text": [
            "1 2 3 5 8 13 21 34 55 89 "
          ]
        }
      ]
    },
    {
      "cell_type": "code",
      "source": [
        "numbers=[5,2,3,8]\n",
        "minimum = numbers[0]\n",
        "for number in numbers:\n",
        "  if number<minimum:\n",
        "    minimum = number\n",
        "\n",
        "print(minimum)"
      ],
      "metadata": {
        "colab": {
          "base_uri": "https://localhost:8080/"
        },
        "id": "-kgQHxYm-5dl",
        "outputId": "60f3b53e-2657-4f43-a17a-d293ad1d523d"
      },
      "execution_count": null,
      "outputs": [
        {
          "output_type": "stream",
          "name": "stdout",
          "text": [
            "2\n"
          ]
        }
      ]
    },
    {
      "cell_type": "code",
      "source": [
        "length = len(numbers)\n",
        "print(length)\n",
        "index = length // 2\n",
        "print(index)\n",
        "x=numbers[index+1]\n",
        "\n"
      ],
      "metadata": {
        "colab": {
          "base_uri": "https://localhost:8080/"
        },
        "id": "TKri7ZUsFC3G",
        "outputId": "8cd65d55-940e-4e0c-f86d-9ac224b958c5"
      },
      "execution_count": null,
      "outputs": [
        {
          "output_type": "stream",
          "name": "stdout",
          "text": [
            "4\n",
            "2\n",
            "8\n"
          ]
        }
      ]
    },
    {
      "cell_type": "code",
      "source": [],
      "metadata": {
        "id": "5_Khh8FmGQdk"
      },
      "execution_count": null,
      "outputs": []
    },
    {
      "cell_type": "code",
      "source": [
        "x = 4+3 and 6 or 4>5+2\n",
        "print(x)"
      ],
      "metadata": {
        "colab": {
          "base_uri": "https://localhost:8080/"
        },
        "id": "KgpiaoavKYaV",
        "outputId": "e45f1775-c515-46f2-fd0a-695f9c9eed35"
      },
      "execution_count": null,
      "outputs": [
        {
          "output_type": "stream",
          "name": "stdout",
          "text": [
            "6\n"
          ]
        }
      ]
    },
    {
      "cell_type": "code",
      "source": [
        "import math\n",
        "\n",
        "#print(dir(math))\n",
        "\n",
        "print(math.factorial(5))\n",
        "\n",
        "print(math.sqrt(25))\n",
        "\n",
        "print(math.ceil(5.8))\n",
        "\n",
        "print(math.floor(5.2))\n",
        "\n",
        "print(math.pow(5,3))\n",
        "\n",
        "print(math.gcd(6,2))\n",
        "\n",
        "print(math.pi)\n",
        "\n"
      ],
      "metadata": {
        "colab": {
          "base_uri": "https://localhost:8080/"
        },
        "id": "6inK1DXoTxMr",
        "outputId": "1f013b89-11ae-4413-ab8e-d38e3ad63702"
      },
      "execution_count": null,
      "outputs": [
        {
          "output_type": "stream",
          "name": "stdout",
          "text": [
            "120\n",
            "5.0\n",
            "6\n",
            "5\n",
            "125.0\n",
            "2\n",
            "3.141592653589793\n"
          ]
        }
      ]
    },
    {
      "cell_type": "code",
      "source": [
        "import random\n",
        "list1=['java','python','php','.net','cpp']\n",
        "\n",
        "for i in range(4):\n",
        "\n",
        "    print(random.choice(list1))"
      ],
      "metadata": {
        "colab": {
          "base_uri": "https://localhost:8080/"
        },
        "id": "unLRvLbkUtK9",
        "outputId": "54393ac2-a429-4311-e493-d12540b020aa"
      },
      "execution_count": null,
      "outputs": [
        {
          "output_type": "stream",
          "name": "stdout",
          "text": [
            "cpp\n",
            "java\n",
            "php\n",
            "java\n"
          ]
        }
      ]
    },
    {
      "cell_type": "code",
      "source": [
        "for k in range(10):\n",
        "\n",
        "    print(random.randrange(10,20))"
      ],
      "metadata": {
        "colab": {
          "base_uri": "https://localhost:8080/"
        },
        "id": "wrNTt5sMU4wI",
        "outputId": "38c6975a-a4e2-4aad-cca8-d3b769cc6981"
      },
      "execution_count": null,
      "outputs": [
        {
          "output_type": "stream",
          "name": "stdout",
          "text": [
            "14\n",
            "16\n",
            "19\n",
            "13\n",
            "15\n",
            "15\n",
            "10\n",
            "13\n",
            "16\n",
            "16\n"
          ]
        }
      ]
    },
    {
      "cell_type": "code",
      "source": [
        "for j in range(10):\n",
        "\n",
        "    print(random.randint(1,10))"
      ],
      "metadata": {
        "colab": {
          "base_uri": "https://localhost:8080/"
        },
        "id": "212S5U6iU-bk",
        "outputId": "71c3e89f-a902-40cf-fd50-00ca79a3fde8"
      },
      "execution_count": null,
      "outputs": [
        {
          "output_type": "stream",
          "name": "stdout",
          "text": [
            "7\n",
            "10\n",
            "3\n",
            "9\n",
            "5\n",
            "3\n",
            "10\n",
            "4\n",
            "8\n",
            "2\n"
          ]
        }
      ]
    },
    {
      "cell_type": "code",
      "source": [
        "for k in range(10):\n",
        "\n",
        "    print(random.uniform(20,50))"
      ],
      "metadata": {
        "colab": {
          "base_uri": "https://localhost:8080/"
        },
        "id": "B9wrj1AiVTx6",
        "outputId": "c79667a6-a000-4c20-f9c5-659dc458f854"
      },
      "execution_count": null,
      "outputs": [
        {
          "output_type": "stream",
          "name": "stdout",
          "text": [
            "36.853822578259894\n",
            "22.93308152288491\n",
            "45.742872222998486\n",
            "39.65052169856407\n",
            "41.69723531846808\n",
            "30.411009445479166\n",
            "23.89814543131163\n",
            "26.829405649783293\n",
            "47.55482349417231\n",
            "23.064945988560115\n"
          ]
        }
      ]
    },
    {
      "cell_type": "code",
      "source": [
        "import datetime\n",
        "print(datetime.datetime.now())\n",
        "td = datetime.date.today()\n",
        "print(td.day)"
      ],
      "metadata": {
        "colab": {
          "base_uri": "https://localhost:8080/"
        },
        "id": "ywflAE0_Va_6",
        "outputId": "96395749-b978-4c97-bcc9-8ed82243ab58"
      },
      "execution_count": null,
      "outputs": [
        {
          "output_type": "stream",
          "name": "stdout",
          "text": [
            "2024-05-16 07:40:43.243733\n",
            "16\n"
          ]
        }
      ]
    },
    {
      "cell_type": "code",
      "source": [
        "def fib(n):    # write fibonacci series up to n\n",
        "\n",
        "\n",
        "\n",
        "    a, b = 0, 1\n",
        "\n",
        "    while a < n:\n",
        "\n",
        "        print(a, end=' ')\n",
        "\n",
        "        a, b = b, a+b\n",
        "\n",
        "    print()"
      ],
      "metadata": {
        "id": "TjKFnjBAWiOA"
      },
      "execution_count": null,
      "outputs": []
    },
    {
      "cell_type": "code",
      "source": [
        "print(2**1*3,end=\" \")\n",
        "print(2*1**3)"
      ],
      "metadata": {
        "colab": {
          "base_uri": "https://localhost:8080/"
        },
        "id": "UgITGIfYwRfh",
        "outputId": "959cf5fd-8ffc-4078-ebb8-a93355f2f9c1"
      },
      "execution_count": null,
      "outputs": [
        {
          "output_type": "stream",
          "name": "stdout",
          "text": [
            "6 2\n"
          ]
        }
      ]
    },
    {
      "cell_type": "code",
      "source": [
        "try:\n",
        "  div ="
      ],
      "metadata": {
        "id": "fUCSjN_pwnyT"
      },
      "execution_count": null,
      "outputs": []
    }
  ]
}